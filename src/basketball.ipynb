{
 "metadata": {
  "language_info": {
   "codemirror_mode": {
    "name": "ipython",
    "version": 3
   },
   "file_extension": ".py",
   "mimetype": "text/x-python",
   "name": "python",
   "nbconvert_exporter": "python",
   "pygments_lexer": "ipython3",
   "version": "3.8.3"
  },
  "orig_nbformat": 4,
  "kernelspec": {
   "name": "python3",
   "display_name": "Python 3.8.3 64-bit ('base': conda)"
  },
  "interpreter": {
   "hash": "1552f555b3421ede5e816b2819c5be951b0cf667bc67aed41d5bebeea730523c"
  }
 },
 "nbformat": 4,
 "nbformat_minor": 2,
 "cells": [
  {
   "cell_type": "code",
   "execution_count": 53,
   "metadata": {},
   "outputs": [
    {
     "output_type": "execute_result",
     "data": {
      "text/plain": [
       "                 Player  From    To  Pos  Ht     Wt          Birth Date  \\\n",
       "0           Mike Harper  1981  1982  C-F  82  195.0    December 9, 1957   \n",
       "1         Larry McNeill  1974  1979  F-C  81  195.0    January 31, 1951   \n",
       "2           Ed Pinckney  1986  1997    F  81  195.0      March 27, 1963   \n",
       "3              Bo Ellis  1978  1980    F  81  197.0      August 8, 1954   \n",
       "4            Toni Kukoč  1994  2006    F  82  192.0  September 18, 1968   \n",
       "...                 ...   ...   ...  ...  ..    ...                 ...   \n",
       "4870  Priest Lauderdale  1997  1998    C  88  325.0     August 31, 1973   \n",
       "4871    Thomas Hamilton  1996  2000    C  86  330.0       April 3, 1975   \n",
       "4872      Muggsy Bogues  1988  2001    G  63  136.0     January 9, 1965   \n",
       "4873        Penny Early  1969  1969    G  63  114.0        May 30, 1943   \n",
       "4874        Sim Bhullar  2015  2015    C  89  360.0    December 2, 1992   \n",
       "\n",
       "                      Colleges      z_Ht      z_Wt  distance  \n",
       "0        North Park University  1.113124 -0.546145  0.116212  \n",
       "1                    Marquette  0.836585 -0.546145  0.165568  \n",
       "2                    Villanova  0.836585 -0.546145  0.165568  \n",
       "3                    Marquette  0.836585 -0.469646  0.170859  \n",
       "4                          NaN  1.113124 -0.660895  0.181054  \n",
       "...                        ...       ...       ...       ...  \n",
       "4870  Central State University  2.772354  4.426337  5.253842  \n",
       "4871                      Pitt  2.219277  4.617587  5.279831  \n",
       "4872               Wake Forest -4.141106 -2.802888  5.625361  \n",
       "4873                       NaN -4.141106 -3.644385  6.016284  \n",
       "4874          New Mexico State  3.048892  5.765083  6.610169  \n",
       "\n",
       "[4875 rows x 11 columns]"
      ],
      "text/html": "<div>\n<style scoped>\n    .dataframe tbody tr th:only-of-type {\n        vertical-align: middle;\n    }\n\n    .dataframe tbody tr th {\n        vertical-align: top;\n    }\n\n    .dataframe thead th {\n        text-align: right;\n    }\n</style>\n<table border=\"1\" class=\"dataframe\">\n  <thead>\n    <tr style=\"text-align: right;\">\n      <th></th>\n      <th>Player</th>\n      <th>From</th>\n      <th>To</th>\n      <th>Pos</th>\n      <th>Ht</th>\n      <th>Wt</th>\n      <th>Birth Date</th>\n      <th>Colleges</th>\n      <th>z_Ht</th>\n      <th>z_Wt</th>\n      <th>distance</th>\n    </tr>\n  </thead>\n  <tbody>\n    <tr>\n      <th>0</th>\n      <td>Mike Harper</td>\n      <td>1981</td>\n      <td>1982</td>\n      <td>C-F</td>\n      <td>82</td>\n      <td>195.0</td>\n      <td>December 9, 1957</td>\n      <td>North Park University</td>\n      <td>1.113124</td>\n      <td>-0.546145</td>\n      <td>0.116212</td>\n    </tr>\n    <tr>\n      <th>1</th>\n      <td>Larry McNeill</td>\n      <td>1974</td>\n      <td>1979</td>\n      <td>F-C</td>\n      <td>81</td>\n      <td>195.0</td>\n      <td>January 31, 1951</td>\n      <td>Marquette</td>\n      <td>0.836585</td>\n      <td>-0.546145</td>\n      <td>0.165568</td>\n    </tr>\n    <tr>\n      <th>2</th>\n      <td>Ed Pinckney</td>\n      <td>1986</td>\n      <td>1997</td>\n      <td>F</td>\n      <td>81</td>\n      <td>195.0</td>\n      <td>March 27, 1963</td>\n      <td>Villanova</td>\n      <td>0.836585</td>\n      <td>-0.546145</td>\n      <td>0.165568</td>\n    </tr>\n    <tr>\n      <th>3</th>\n      <td>Bo Ellis</td>\n      <td>1978</td>\n      <td>1980</td>\n      <td>F</td>\n      <td>81</td>\n      <td>197.0</td>\n      <td>August 8, 1954</td>\n      <td>Marquette</td>\n      <td>0.836585</td>\n      <td>-0.469646</td>\n      <td>0.170859</td>\n    </tr>\n    <tr>\n      <th>4</th>\n      <td>Toni Kukoč</td>\n      <td>1994</td>\n      <td>2006</td>\n      <td>F</td>\n      <td>82</td>\n      <td>192.0</td>\n      <td>September 18, 1968</td>\n      <td>NaN</td>\n      <td>1.113124</td>\n      <td>-0.660895</td>\n      <td>0.181054</td>\n    </tr>\n    <tr>\n      <th>...</th>\n      <td>...</td>\n      <td>...</td>\n      <td>...</td>\n      <td>...</td>\n      <td>...</td>\n      <td>...</td>\n      <td>...</td>\n      <td>...</td>\n      <td>...</td>\n      <td>...</td>\n      <td>...</td>\n    </tr>\n    <tr>\n      <th>4870</th>\n      <td>Priest Lauderdale</td>\n      <td>1997</td>\n      <td>1998</td>\n      <td>C</td>\n      <td>88</td>\n      <td>325.0</td>\n      <td>August 31, 1973</td>\n      <td>Central State University</td>\n      <td>2.772354</td>\n      <td>4.426337</td>\n      <td>5.253842</td>\n    </tr>\n    <tr>\n      <th>4871</th>\n      <td>Thomas Hamilton</td>\n      <td>1996</td>\n      <td>2000</td>\n      <td>C</td>\n      <td>86</td>\n      <td>330.0</td>\n      <td>April 3, 1975</td>\n      <td>Pitt</td>\n      <td>2.219277</td>\n      <td>4.617587</td>\n      <td>5.279831</td>\n    </tr>\n    <tr>\n      <th>4872</th>\n      <td>Muggsy Bogues</td>\n      <td>1988</td>\n      <td>2001</td>\n      <td>G</td>\n      <td>63</td>\n      <td>136.0</td>\n      <td>January 9, 1965</td>\n      <td>Wake Forest</td>\n      <td>-4.141106</td>\n      <td>-2.802888</td>\n      <td>5.625361</td>\n    </tr>\n    <tr>\n      <th>4873</th>\n      <td>Penny Early</td>\n      <td>1969</td>\n      <td>1969</td>\n      <td>G</td>\n      <td>63</td>\n      <td>114.0</td>\n      <td>May 30, 1943</td>\n      <td>NaN</td>\n      <td>-4.141106</td>\n      <td>-3.644385</td>\n      <td>6.016284</td>\n    </tr>\n    <tr>\n      <th>4874</th>\n      <td>Sim Bhullar</td>\n      <td>2015</td>\n      <td>2015</td>\n      <td>C</td>\n      <td>89</td>\n      <td>360.0</td>\n      <td>December 2, 1992</td>\n      <td>New Mexico State</td>\n      <td>3.048892</td>\n      <td>5.765083</td>\n      <td>6.610169</td>\n    </tr>\n  </tbody>\n</table>\n<p>4875 rows × 11 columns</p>\n</div>"
     },
     "metadata": {},
     "execution_count": 53
    }
   ],
   "source": [
    "import pandas as pd \n",
    "import numpy as np\n",
    "\n",
    "def metric_ht(ht:str):\n",
    "    ft = ht[0]\n",
    "    \n",
    "    if len(ht) == 4:\n",
    "        inch = ht[2:4]\n",
    "    else:  \n",
    "        inch = ht[2]\n",
    "    \n",
    "    int_inch = int(ft)*12 + int(inch)\n",
    "    return int_inch\n",
    "\n",
    "def compute_distance(pnt1,pnt2):\n",
    "    x= (pnt1[0]-pnt2[0])**2\n",
    "    y= (pnt1[1]-pnt2[1])**2\n",
    "    return np.sqrt(x+y)\n",
    "\n",
    "df = pd.read_csv(\"basketball_players.csv\",index_col=0)\n",
    "df['Ht'] = df['Ht'].apply(metric_ht)\n",
    "df['z_Ht'] = (df['Ht']-df['Ht'].mean())/df['Ht'].std()\n",
    "df['z_Wt'] = (df['Wt']-df['Wt'].mean())/df['Wt'].std()\n",
    "\n",
    "test_ht = (74-70)/4\n",
    "test_wt = (170-196.6)/51.2\n",
    "\n",
    "df['distance'] = df.apply(lambda x: compute_distance((x['z_Ht'],x['z_Wt']),(test_ht,test_wt)),axis=1)\n",
    "df = df.sort_values(by=['distance'])\n",
    "df = df.dropna(subset=['distance'])\n",
    "df.reset_index(drop=True)\n"
   ]
  },
  {
   "cell_type": "code",
   "execution_count": null,
   "metadata": {},
   "outputs": [],
   "source": []
  },
  {
   "cell_type": "code",
   "execution_count": null,
   "metadata": {},
   "outputs": [],
   "source": []
  }
 ]
}