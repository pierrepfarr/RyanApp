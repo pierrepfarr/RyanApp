{
 "metadata": {
  "language_info": {
   "codemirror_mode": {
    "name": "ipython",
    "version": 3
   },
   "file_extension": ".py",
   "mimetype": "text/x-python",
   "name": "python",
   "nbconvert_exporter": "python",
   "pygments_lexer": "ipython3",
   "version": "3.8.3"
  },
  "orig_nbformat": 4,
  "kernelspec": {
   "name": "python3",
   "display_name": "Python 3.8.3 64-bit ('base': conda)"
  },
  "interpreter": {
   "hash": "1552f555b3421ede5e816b2819c5be951b0cf667bc67aed41d5bebeea730523c"
  }
 },
 "nbformat": 4,
 "nbformat_minor": 2,
 "cells": [
  {
   "cell_type": "code",
   "execution_count": 36,
   "metadata": {},
   "outputs": [
    {
     "output_type": "stream",
     "name": "stderr",
     "text": [
      "<ipython-input-36-32041cf3cb9a>:18: RuntimeWarning: invalid value encountered in sqrt\n  return np.sqrt(x-y)\n"
     ]
    }
   ],
   "source": [
    "import pandas as pd \n",
    "import numpy as np\n",
    "\n",
    "def metric_ht(ht:str):\n",
    "    ft = ht[0]\n",
    "    \n",
    "    if len(ht) == 4:\n",
    "        inch = ht[2:4]\n",
    "    else:  \n",
    "        inch = ht[2]\n",
    "    \n",
    "    int_inch = int(ft)*12 + int(inch)\n",
    "    return int_inch\n",
    "\n",
    "def compute_distance(pnt1,pnt2):\n",
    "    x= (pnt1[0]-pnt2[0])**2\n",
    "    y= (pnt1[1]-pnt2[1])**2\n",
    "    return np.sqrt(x+y)\n",
    "\n",
    "df = pd.read_csv(\"basketball_players.csv\",index_col=0)\n",
    "df['Ht'] = df['Ht'].apply(metric_ht)\n",
    "df['z_Ht'] = (df['Ht']-df['Ht'].mean())/df['Ht'].std()\n",
    "df['z_Wt'] = (df['Wt']-df['Wt'].mean())/df['Wt'].std()\n",
    "\n",
    "test_ht = (74-70)/4\n",
    "test_wt = (170-196.6)/51.2\n",
    "\n",
    "df['distance'] = df.apply(lambda x: compute_distance((x['z_Ht'],x['z_Wt']),(test_ht,test_wt)),axis=1)\n"
   ]
  },
  {
   "cell_type": "code",
   "execution_count": null,
   "metadata": {},
   "outputs": [],
   "source": []
  }
 ]
}